{
 "cells": [
  {
   "cell_type": "markdown",
   "id": "unauthorized-break",
   "metadata": {},
   "source": [
    "# Project Heartfailure \n",
    "*(Von Samuel Gast Februar 29, 2021)*\n",
    "### Overview\n",
    "\n",
    "Libraries:\n",
    "* pandas `import pandas as pd;`\n",
    "* pyplot `from matplotlib import pyplot as plt;`\n",
    "\n",
    "References:\n",
    "* Data used: [DataSet](https://www.kaggle.com/andrewmvd/heart-failure-clinical-data?select=heart_failure_clinical_records_dataset.csv)"
   ]
  },
  {
   "cell_type": "code",
   "execution_count": 2,
   "id": "expressed-reflection",
   "metadata": {},
   "outputs": [],
   "source": [
    "import pandas as pd;\n",
    "import numpy as np;\n",
    "from matplotlib import pyplot as plt;"
   ]
  },
  {
   "cell_type": "markdown",
   "id": "billion-scout",
   "metadata": {},
   "source": [
    "Note: *Male=1;Female=0;*"
   ]
  },
  {
   "cell_type": "code",
   "execution_count": 3,
   "id": "incomplete-customs",
   "metadata": {},
   "outputs": [],
   "source": [
    "data = pd.read_csv('HF_clinical_records.csv')\n",
    "\n",
    "male = data.loc[data.sex==1]\n",
    "female = data.loc[data.sex==0]"
   ]
  },
  {
   "cell_type": "markdown",
   "id": "legislative-purpose",
   "metadata": {},
   "source": [
    "### Basic Serum Creatinine comparison (mg/dL)"
   ]
  },
  {
   "cell_type": "markdown",
   "id": "forbidden-baltimore",
   "metadata": {},
   "source": [
    "##### NOTE: \n",
    "* rsc = serum creatinine"
   ]
  },
  {
   "cell_type": "code",
   "execution_count": 4,
   "id": "acting-mainland",
   "metadata": {},
   "outputs": [],
   "source": [
    "def calculateAverageRscValueGenderBased(deathEvent,gender):\n",
    "    serumCreatine = gender.loc[gender.DEATH_EVENT == deathEvent][\"serum_creatinine\"]\n",
    "    return(sum(serumCreatine) / len(serumCreatine))\n",
    "\n",
    "def calculateAverageRscValue(deathEvent):\n",
    "    serumCreatine = data.loc[data.DEATH_EVENT == deathEvent][\"serum_creatinine\"]\n",
    "    return(sum(serumCreatine) / len(serumCreatine))"
   ]
  },
  {
   "cell_type": "markdown",
   "id": "adequate-surgery",
   "metadata": {},
   "source": [
    "##### *Average Serum Creatinine value from deceased person*"
   ]
  },
  {
   "cell_type": "code",
   "execution_count": 5,
   "id": "surprised-confidence",
   "metadata": {},
   "outputs": [
    {
     "name": "stdout",
     "output_type": "stream",
     "text": [
      "rsc value: Male: 1.7754838709677416, Female: 1.9458823529411768\n"
     ]
    }
   ],
   "source": [
    "rscValueFromDeceasedPersonMale = calculateAverageRscValueGenderBased(1,male)\n",
    "rscValueFromDeceasedPersonFemale = calculateAverageRscValueGenderBased(1,female)\n",
    "\n",
    "print(\"rsc value: \"+\"Male: \"+str(rscValueFromDeceasedPersonMale)+\", Female: \"+str(rscValueFromDeceasedPersonFemale))"
   ]
  },
  {
   "cell_type": "markdown",
   "id": "authentic-restaurant",
   "metadata": {},
   "source": [
    "##### *Average Serum Creatinine value from alive person*"
   ]
  },
  {
   "cell_type": "code",
   "execution_count": 6,
   "id": "serious-vertex",
   "metadata": {},
   "outputs": [
    {
     "name": "stdout",
     "output_type": "stream",
     "text": [
      "rsc value: Male: 1.2224242424242424, Female: 1.1150704225352108\n"
     ]
    }
   ],
   "source": [
    "rscValueFromAlivePersonMale = calculateAverageRscValueGenderBased(0,male)\n",
    "rscValueFromAlivePersonFemale = calculateAverageRscValueGenderBased(0,female)\n",
    "\n",
    "print(\"rsc value: \"+\"Male: \"+str(rscValueFromAlivePersonMale)+\", Female: \"+str(rscValueFromAlivePersonFemale))"
   ]
  },
  {
   "cell_type": "markdown",
   "id": "widespread-knitting",
   "metadata": {},
   "source": [
    "##### *Comparison of RSC value by Gender with death event being positive*"
   ]
  },
  {
   "cell_type": "code",
   "execution_count": 7,
   "id": "floral-syndrome",
   "metadata": {},
   "outputs": [
    {
     "data": {
      "image/png": "[encoded data removed]",
      "text/plain": [
       "<Figure size 432x288 with 1 Axes>"
      ]
     },
     "metadata": {
      "needs_background": "light"
     },
     "output_type": "display_data"
    }
   ],
   "source": [
    "deathEventDataSet = data.loc[data.DEATH_EVENT == 1]\n",
    "dataset = deathEventDataSet.groupby('sex')['serum_creatinine'].mean()\n",
    "\n",
    "subjects = ['male','female']\n",
    "male_means = dataset.T[1]\n",
    "female_means = dataset.T[0]\n",
    "\n",
    "color = (.5,.5,.5)\n",
    "lineStyle = '--'\n",
    "\n",
    "ypos = np.arange(len(subjects))\n",
    "\n",
    "plt.title('RSC Value from deceased people by gender')\n",
    "plt.xlabel('means by gender')\n",
    "plt.ylabel('rsc value in mg/dl')\n",
    "plt.axhline(male_means,c=color,ls=lineStyle)\n",
    "plt.axhline(female_means,c=color,ls=lineStyle)\n",
    "plt.xticks(ypos,subjects)\n",
    "plt.bar(ypos[0],male_means,label=\"%.2f\"%male_means)\n",
    "plt.bar(ypos[1],female_means,label=\"%.2f\"%female_means)\n",
    "plt.legend()\n",
    "plt.show()"
   ]
  },
  {
   "cell_type": "markdown",
   "id": "forty-private",
   "metadata": {},
   "source": [
    "##### *Comparison of RSC value by difference of death event (not based on gender)*"
   ]
  },
  {
   "cell_type": "code",
   "execution_count": 107,
   "id": "stretch-condition",
   "metadata": {},
   "outputs": [
    {
     "data": {
      "image/png": "[encoded data removed]",
      "text/plain": [
       "<Figure size 432x288 with 1 Axes>"
      ]
     },
     "metadata": {
      "needs_background": "light"
     },
     "output_type": "display_data"
    }
   ],
   "source": [
    "subjectsOverall = ['dead','alive']\n",
    "yposOverall = np.arange(len(subjectsOverall))\n",
    "\n",
    "rscValueFromDeceased = calculateAverageRscValue(1)\n",
    "rscValueFromAlive = calculateAverageRscValue(0)\n",
    "\n",
    "plt.title('RSC Value difference from deceased people not by gender')\n",
    "plt.xlabel('average rsc value by death')\n",
    "plt.ylabel('rsc value in mg/dl')\n",
    "plt.xticks(yposOverall,subjectsOverall)\n",
    "plt.bar(yposOverall[0],rscValueFromDeceased,label=\"%.2f\"%rscValueFromDeceased)\n",
    "plt.bar(yposOverall[1],rscValueFromAlive,label=\"%.2f\"%rscValueFromAlive)\n",
    "plt.legend()\n",
    "plt.show()"
   ]
  },
  {
   "cell_type": "markdown",
   "id": "forward-reviewer",
   "metadata": {},
   "source": [
    "##### Conclusion:\n",
    "*serum creatinine value from deceased females is higher and overall deceased people (not gender based) have higher serum creatinine value than alive people, hence add serum creatinine value as nodes to propabilty tree, as they add a significant contribution to outcome.* \n",
    "* eventually add age as additional node (discuss in group)\n",
    "* check if gender has a higher relevance in other categories, if not don't add as node, since not significant elsewise "
   ]
  },
  {
   "cell_type": "markdown",
   "id": "retired-secretary",
   "metadata": {},
   "source": [
    "### Basic Ejection Fraction comparison"
   ]
  },
  {
   "cell_type": "markdown",
   "id": "detailed-horror",
   "metadata": {},
   "source": [
    "##### NOTE: \n",
    "* LVEF = left ventricular ejection fraction;\n",
    "* HFrEF = heart failure with reduced ejection fraction;\n",
    "* HFmrEF =heart failure with mid-range ejection fraction;"
   ]
  },
  {
   "cell_type": "markdown",
   "id": "active-operations",
   "metadata": {},
   "source": [
    "##### *Average LVEF by gender and by death event*"
   ]
  },
  {
   "cell_type": "code",
   "execution_count": 167,
   "id": "experimental-powder",
   "metadata": {},
   "outputs": [
    {
     "data": {
      "text/plain": [
       "sex  DEATH_EVENT\n",
       "0    0              41.873239\n",
       "     1              37.529412\n",
       "1    0              39.401515\n",
       "     1              31.241935\n",
       "Name: ejection_fraction, dtype: float64"
      ]
     },
     "execution_count": 167,
     "metadata": {},
     "output_type": "execute_result"
    }
   ],
   "source": [
    "avgEjectionFractionByGender = data.groupby(['sex','DEATH_EVENT'])['ejection_fraction'].mean()\n",
    "avgEjectionFractionByGender"
   ]
  },
  {
   "cell_type": "markdown",
   "id": "resistant-clear",
   "metadata": {},
   "source": [
    "##### Conclusion:\n",
    "*Gender is not significant*"
   ]
  },
  {
   "cell_type": "markdown",
   "id": "supported-tourist",
   "metadata": {},
   "source": [
    "##### *Relevance of LVEF by age (deceased people vs alive person)*"
   ]
  },
  {
   "cell_type": "code",
   "execution_count": 231,
   "id": "accepted-stereo",
   "metadata": {},
   "outputs": [
    {
     "data": {
      "image/png": "[encoded data removed]",
      "text/plain": [
       "<Figure size 720x216 with 2 Axes>"
      ]
     },
     "metadata": {
      "needs_background": "light"
     },
     "output_type": "display_data"
    }
   ],
   "source": [
    "def getAvgEjectionFractionByAge(deathEvent):\n",
    "    datasetEfByDeathEvent = data.loc[data.DEATH_EVENT == deathEvent]\n",
    "    avgEjectionFractionByAge = datasetEfByDeathEvent.groupby('age')['ejection_fraction'].mean()\n",
    "    indexedDataFrame = pd.DataFrame({'age':avgEjectionFractionByAge.index,'avgef':avgEjectionFractionByAge.values})\n",
    "    return indexedDataFrame\n",
    "    \n",
    "avgEfDeath = getAvgEjectionFractionByAge(1)\n",
    "startAndEndAgeEfDeath = [avgEfByDeath.age.min(),avgEfByDeath.age.max()]\n",
    "highestAndLowestEfDeath = [avgEfByDeath.avgef.min(),avgEfByDeath.avgef.max()]\n",
    "\n",
    "avgEfAlive = getAvgEjectionFractionByAge(0)\n",
    "startAndEndAgeEfAlive = [avgEfAlive.age.min(),avgEfAlive.age.max()]\n",
    "highestAndLowestEfAlive = [avgEfAlive.avgef.min(),avgEfAlive.avgef.max()]\n",
    "\n",
    "plt.figure(figsize=(10,3))\n",
    "plt.subplot(121)\n",
    "plt.title('Avg LVEF of deceased people by age')\n",
    "plt.ylabel('LVEF %')\n",
    "plt.xlabel('age')\n",
    "plt.plot(avgEfDeath.age,avgEfDeath.avgef)\n",
    "plt.plot(startAndEndAgeEfDeath,highestAndLowestEfDeath)\n",
    "plt.axis([40,95,10,80])\n",
    "plt.subplot(122)\n",
    "plt.title('Avg LVEF of alive people by age')\n",
    "plt.ylabel('LVEF %')\n",
    "plt.xlabel('age')\n",
    "plt.plot(avgEfAlive.age,avgEfAlive.avgef)\n",
    "plt.plot(startAndEndAgeEfAlive,highestAndLowestEfAlive)\n",
    "plt.axis([40,90,10,80])\n",
    "plt.show()"
   ]
  },
  {
   "cell_type": "markdown",
   "id": "static-medicine",
   "metadata": {},
   "source": [
    "##### Conclusion:\n",
    "*EF is not significant. peaking branch between 50 and 60 years old is just unique*"
   ]
  },
  {
   "cell_type": "markdown",
   "id": "known-asian",
   "metadata": {},
   "source": [
    "### Absolute and Relative frequency"
   ]
  },
  {
   "cell_type": "markdown",
   "id": "endangered-diameter",
   "metadata": {},
   "source": [
    "based on death event, diabetes and high blood pressure"
   ]
  },
  {
   "cell_type": "code",
   "execution_count": 104,
   "id": "important-danger",
   "metadata": {},
   "outputs": [
    {
     "name": "stdout",
     "output_type": "stream",
     "text": [
      "Total rows of dataset:  299  Amount of relevant rows (deceased people): 96\n"
     ]
    }
   ],
   "source": [
    "print(\"Total rows of dataset: \", len(data),\" Amount of relevant rows (deceased people):\",len(deathEventDataSet))"
   ]
  },
  {
   "cell_type": "markdown",
   "id": "injured-formation",
   "metadata": {},
   "source": [
    "#### Absolute frequency"
   ]
  },
  {
   "cell_type": "markdown",
   "id": "olive-politics",
   "metadata": {},
   "source": [
    "* death / death & smoking"
   ]
  },
  {
   "cell_type": "code",
   "execution_count": 15,
   "id": "sunset-passing",
   "metadata": {},
   "outputs": [
    {
     "name": "stdout",
     "output_type": "stream",
     "text": [
      "absolute frequency of death when diagnosed with  heartfailure: 96\n",
      "absolute frequency of death when diagnosed with heartfailure and smoking: 30\n"
     ]
    }
   ],
   "source": [
    "print(\"absolute frequency of death when diagnosed with  heartfailure:\", len(deathEventDataSet))\n",
    "\n",
    "deathAndSmoking = deathEventDataSet[deathEventDataSet.smoking == 1]\n",
    "\n",
    "print(\"absolute frequency of death when diagnosed with heartfailure and smoking:\",len(deathAndSmoking))"
   ]
  },
  {
   "cell_type": "markdown",
   "id": "nasty-logistics",
   "metadata": {},
   "source": [
    "* diabetes / diabetes & smoking"
   ]
  },
  {
   "cell_type": "code",
   "execution_count": 16,
   "id": "framed-attendance",
   "metadata": {},
   "outputs": [
    {
     "name": "stdout",
     "output_type": "stream",
     "text": [
      "absolute frequency of diabetes in deceased people is:  23\n",
      "absolute frequency of diabetes and smoking in deceased people is:  7\n"
     ]
    }
   ],
   "source": [
    "diabetes = deathEventDataSet[(deathEventDataSet.diabetes == 1) & (deathEventDataSet.high_blood_pressure == 0)]\n",
    "print(\"absolute frequency of diabetes in deceased people is: \",len(diabetes))\n",
    "\n",
    "diabetesAndSmoking = diabetes[diabetes.smoking == 1]\n",
    "\n",
    "print(\"absolute frequency of diabetes and smoking in deceased people is: \",len(diabetesAndSmoking))"
   ]
  },
  {
   "cell_type": "markdown",
   "id": "raising-collector",
   "metadata": {},
   "source": [
    "* high blood pressure / high blood pressure & smoking"
   ]
  },
  {
   "cell_type": "code",
   "execution_count": 17,
   "id": "alike-render",
   "metadata": {},
   "outputs": [
    {
     "name": "stdout",
     "output_type": "stream",
     "text": [
      "absolute frequency of high blood pressure in deceased people is:  22\n",
      "absolute frequency of high blood pressure and smoking in deceased people is:  9\n"
     ]
    }
   ],
   "source": [
    "highBloodPressure = deathEventDataSet[(deathEventDataSet.high_blood_pressure == 1) & (deathEventDataSet.diabetes == 0)]\n",
    "print(\"absolute frequency of high blood pressure in deceased people is: \",len(highBloodPressure))\n",
    "\n",
    "highBloodPressureAndSmoking = highBloodPressure[highBloodPressure.smoking == 1]\n",
    "\n",
    "print(\"absolute frequency of high blood pressure and smoking in deceased people is: \",len(highBloodPressureAndSmoking))"
   ]
  },
  {
   "cell_type": "markdown",
   "id": "sunrise-recorder",
   "metadata": {},
   "source": [
    "* diabetes & high blood pressure / diabetes, high blood pressure & smoking"
   ]
  },
  {
   "cell_type": "code",
   "execution_count": 18,
   "id": "renewable-premiere",
   "metadata": {},
   "outputs": [
    {
     "name": "stdout",
     "output_type": "stream",
     "text": [
      "absolute frequency of diabetes and high blood pressure in deceased people is:  17\n",
      "absolute frequency of diabetes and high blood pressure in deceased people is:  5\n"
     ]
    }
   ],
   "source": [
    "diabetesAndHighBloodPressure = deathEventDataSet[(deathEventDataSet.high_blood_pressure == 1) & (deathEventDataSet.diabetes == 1)]\n",
    "print(\"absolute frequency of diabetes and high blood pressure in deceased people is: \",len(diabetesAndHighBloodPressure))\n",
    "\n",
    "diabetesHighBloodPressureAndSmoking = diabetesAndHighBloodPressure[diabetesAndHighBloodPressure.smoking == 1]\n",
    "\n",
    "print(\"absolute frequency of diabetes and high blood pressure in deceased people is: \",len(diabetesHighBloodPressureAndSmoking))"
   ]
  },
  {
   "cell_type": "markdown",
   "id": "disturbed-comment",
   "metadata": {},
   "source": [
    "##### Conclusion:\n",
    "*H(death) = 96;H(diabetes) = 23; H(highBloodPressure) = 22;H(diabetesAndHighBloodPressure)=17;*"
   ]
  },
  {
   "cell_type": "markdown",
   "id": "infrared-wrong",
   "metadata": {},
   "source": [
    "#### Relative frequency"
   ]
  },
  {
   "cell_type": "markdown",
   "id": "dramatic-mounting",
   "metadata": {},
   "source": [
    "* death"
   ]
  },
  {
   "cell_type": "code",
   "execution_count": 20,
   "id": "measured-component",
   "metadata": {},
   "outputs": [
    {
     "name": "stdout",
     "output_type": "stream",
     "text": [
      "relative frequency of death when diagnosed with heartfailure is: 32.10702341137124 %\n",
      "with smoking: 31.25 &\n"
     ]
    }
   ],
   "source": [
    "print(\"relative frequency of death when diagnosed with heartfailure is:\", len(deathEventDataSet)/len(data)*100,\"%\")\n",
    "print(\"with smoking:\",len(deathAndSmoking)/len(deathEventDataSet)*100,\"%\")"
   ]
  },
  {
   "cell_type": "markdown",
   "id": "alike-singles",
   "metadata": {},
   "source": [
    "* diabetes"
   ]
  },
  {
   "cell_type": "code",
   "execution_count": 21,
   "id": "elect-cannon",
   "metadata": {},
   "outputs": [
    {
     "name": "stdout",
     "output_type": "stream",
     "text": [
      "relative frequency from diabetes is: 23.958333333333336 %\n",
      "with smoking: 30.434782608695656 %\n"
     ]
    }
   ],
   "source": [
    "print(\"relative frequency from diabetes is:\", len(diabetes)/len(deathEventDataSet)* 100,\"%\")\n",
    "print(\"with smoking:\", len(diabetesAndSmoking)/len(diabetes)*100,\"%\")"
   ]
  },
  {
   "cell_type": "markdown",
   "id": "premium-shopper",
   "metadata": {},
   "source": [
    "* high blood pressure"
   ]
  },
  {
   "cell_type": "code",
   "execution_count": 23,
   "id": "excessive-blame",
   "metadata": {},
   "outputs": [
    {
     "name": "stdout",
     "output_type": "stream",
     "text": [
      "relative frequency from high blood pressure is: 22.916666666666664 %\n",
      "with smoking: 40.909090909090914 %\n"
     ]
    }
   ],
   "source": [
    "print(\"relative frequency from high blood pressure is:\",len(highBloodPressure)/len(deathEventDataSet)*100,\"%\")\n",
    "print(\"with smoking:\",len(highBloodPressureAndSmoking)/len(highBloodPressure)*100,\"%\")"
   ]
  },
  {
   "cell_type": "markdown",
   "id": "rocky-standard",
   "metadata": {},
   "source": [
    "* diabetes and high blood pressure"
   ]
  },
  {
   "cell_type": "code",
   "execution_count": 26,
   "id": "current-walker",
   "metadata": {},
   "outputs": [
    {
     "name": "stdout",
     "output_type": "stream",
     "text": [
      "relative frequency from diabetes and high blood pressure is: 17.708333333333336 %\n",
      "with smoking: 29.411764705882355 %\n"
     ]
    }
   ],
   "source": [
    "print(\"relative frequency from diabetes and high blood pressure is:\",len(diabetesAndHighBloodPressure)/len(deathEventDataSet)*100,\"%\")\n",
    "print(\"with smoking:\",len(diabetesHighBloodPressureAndSmoking)/len(diabetesAndHighBloodPressure)*100,\"%\")"
   ]
  },
  {
   "cell_type": "code",
   "execution_count": null,
   "id": "activated-toyota",
   "metadata": {},
   "outputs": [],
   "source": []
  }
 ],
 "metadata": {
  "kernelspec": {
   "display_name": "Python 3",
   "language": "python",
   "name": "python3"
  },
  "language_info": {
   "codemirror_mode": {
    "name": "ipython",
    "version": 3
   },
   "file_extension": ".py",
   "mimetype": "text/x-python",
   "name": "python",
   "nbconvert_exporter": "python",
   "pygments_lexer": "ipython3",
   "version": "3.9.1"
  }
 },
 "nbformat": 4,
 "nbformat_minor": 5
}
