{
 "cells": [
  {
   "cell_type": "markdown",
   "id": "national-consumption",
   "metadata": {},
   "source": [
    "# Project Heartfailure \n",
    "### Visuals & Overview\n",
    "*(Von Samuel Gast Februar 29, 2021)*\n",
    "\n",
    "Libraries:\n",
    "* pandas `import pandas as pd;`\n",
    "* pyplot `from matplotlib import pyplot as plt;`\n",
    "\n",
    "References:\n",
    "* Data used: [DataSet](https://www.kaggle.com/andrewmvd/heart-failure-clinical-data?select=heart_failure_clinical_records_dataset.csv)"
   ]
  },
  {
   "cell_type": "code",
   "execution_count": 8,
   "id": "peaceful-rouge",
   "metadata": {},
   "outputs": [],
   "source": [
    "import pandas as pd;\n",
    "import numpy as np;\n",
    "from matplotlib import pyplot as plt;"
   ]
  },
  {
   "cell_type": "markdown",
   "id": "incorporated-trance",
   "metadata": {},
   "source": [
    "Note: *Male=1;Female=0;*"
   ]
  },
  {
   "cell_type": "code",
   "execution_count": 53,
   "id": "shared-ratio",
   "metadata": {},
   "outputs": [],
   "source": [
    "data = pd.read_csv('HF_clinical_records.csv')\n",
    "\n",
    "male = data.loc[data.sex==1]\n",
    "female = data.loc[data.sex==0]"
   ]
  },
  {
   "cell_type": "markdown",
   "id": "seasonal-raising",
   "metadata": {},
   "source": [
    "### Basic Serum Creatinine Comparison (mg/dL)"
   ]
  },
  {
   "cell_type": "markdown",
   "id": "conceptual-hayes",
   "metadata": {},
   "source": [
    "##### NOTE: rsc = serum creatinine"
   ]
  },
  {
   "cell_type": "code",
   "execution_count": 171,
   "id": "under-increase",
   "metadata": {},
   "outputs": [],
   "source": [
    "def calculateAverageRscValueGenderBased(deathEvent,gender):\n",
    "    serumCreatine = gender.loc[gender.DEATH_EVENT == deathEvent][\"serum_creatinine\"]\n",
    "    return(sum(serumCreatine) / len(serumCreatine))\n",
    "\n",
    "def calculateAverageRscValue(deathEvent):\n",
    "    serumCreatine = data.loc[data.DEATH_EVENT == deathEvent][\"serum_creatinine\"]\n",
    "    return(sum(serumCreatine) / len(serumCreatine))"
   ]
  },
  {
   "cell_type": "markdown",
   "id": "better-moderator",
   "metadata": {},
   "source": [
    "##### *Average Serum Creatinine value from deceased person*"
   ]
  },
  {
   "cell_type": "code",
   "execution_count": 166,
   "id": "terminal-insulation",
   "metadata": {},
   "outputs": [
    {
     "name": "stdout",
     "output_type": "stream",
     "text": [
      "Male: 1.7754838709677416 Female: 1.9458823529411768\n"
     ]
    }
   ],
   "source": [
    "rscValueFromDeceasedPersonMale = calculateAverageRscValueGenderBased(1,male)\n",
    "rscValueFromDeceasedPersonFemale = calculateAverageRscValueGenderBased(1,female)\n",
    "\n",
    "print(\"Male: \"+str(rscValueFromDeceasedPersonMale)+\" Female: \"+str(rscValueFromDeceasedPersonFemale))"
   ]
  },
  {
   "cell_type": "markdown",
   "id": "hundred-onion",
   "metadata": {},
   "source": [
    "##### *Average Serum Creatine value from alive person*"
   ]
  },
  {
   "cell_type": "code",
   "execution_count": 167,
   "id": "downtown-vegetarian",
   "metadata": {},
   "outputs": [
    {
     "name": "stdout",
     "output_type": "stream",
     "text": [
      "Male: 1.2224242424242424 Female: 1.1150704225352108\n"
     ]
    }
   ],
   "source": [
    "rscValueFromAlivePersonMale = calculateAverageRscValueGenderBased(0,male)\n",
    "rscValueFromAlivePersonFemale = calculateAverageRscValueGenderBased(0,female)\n",
    "\n",
    "print(\"Male: \"+str(rscValueFromAlivePersonMale)+\" Female: \"+str(rscValueFromAlivePersonFemale))"
   ]
  },
  {
   "cell_type": "markdown",
   "id": "executive-swing",
   "metadata": {},
   "source": [
    "##### *Comparison of RSC value by Gender*"
   ]
  },
  {
   "cell_type": "code",
   "execution_count": 162,
   "id": "demanding-fiber",
   "metadata": {},
   "outputs": [
    {
     "data": {
      "text/plain": [
       "<matplotlib.legend.Legend at 0x1eed0df5430>"
      ]
     },
     "execution_count": 162,
     "metadata": {},
     "output_type": "execute_result"
    },
    {
     "data": {
      "image/png": "[encoded data removed]",
      "text/plain": [
       "<Figure size 432x288 with 1 Axes>"
      ]
     },
     "metadata": {
      "needs_background": "light"
     },
     "output_type": "display_data"
    }
   ],
   "source": [
    "deathEventDataSet = data.loc[data.DEATH_EVENT == 1]\n",
    "dataset = deathEventDataSet.groupby('sex')['serum_creatinine'].mean()\n",
    "\n",
    "subjects = ['male','female']\n",
    "male_means = dataset.T[1]\n",
    "female_means = dataset.T[0]\n",
    "\n",
    "ypos = np.arange(len(subjects))\n",
    "\n",
    "plt.title('RSC Value from deceased people by gender')\n",
    "plt.xlabel('means by gender')\n",
    "plt.ylabel('rsc value in mg/dl')\n",
    "plt.xticks(ypos,subjects)\n",
    "plt.bar(ypos[0],male_means,label=\"%.2f\"%male_means)\n",
    "plt.bar(ypos[1],female_means,label=\"%.2f\"%female_means)\n",
    "plt.legend()"
   ]
  },
  {
   "cell_type": "markdown",
   "id": "blocked-attitude",
   "metadata": {},
   "source": [
    "##### *Comparison of RSC value by difference of death event (not based on gender)*"
   ]
  },
  {
   "cell_type": "code",
   "execution_count": 185,
   "id": "psychological-modification",
   "metadata": {},
   "outputs": [
    {
     "data": {
      "text/plain": [
       "<matplotlib.legend.Legend at 0x1eed22345b0>"
      ]
     },
     "execution_count": 185,
     "metadata": {},
     "output_type": "execute_result"
    },
    {
     "data": {
      "image/png": "[encoded data removed]",
      "text/plain": [
       "<Figure size 432x288 with 1 Axes>"
      ]
     },
     "metadata": {
      "needs_background": "light"
     },
     "output_type": "display_data"
    }
   ],
   "source": [
    "subjectsOverall = ['dead','alive']\n",
    "yposOverall = np.arange(len(subjectsOverall))\n",
    "\n",
    "rscValueFromDeceased = calculateAverageRscValue(1)\n",
    "rscValueFromAlive = calculateAverageRscValue(0)\n",
    "\n",
    "plt.title('RSC Value difference from deceased people not by gender')\n",
    "plt.xlabel('average rsc value by death')\n",
    "plt.ylabel('rsc value in mg/dl')\n",
    "plt.xticks(yposOverall,subjectsOverall)\n",
    "plt.bar(yposOverall[0],rscValueFromDeceased,label=\"%.2f\"%rscValueFromDeceased)\n",
    "plt.bar(yposOverall[1],rscValueFromAlive,label=\"%.2f\"%rscValueFromAlive)\n",
    "plt.legend()"
   ]
  },
  {
   "cell_type": "markdown",
   "id": "radio-engineering",
   "metadata": {},
   "source": [
    "##### Conclusion:\n",
    "*serum creatinine value from deceased females is higher and overall deceased people (not gender based) have higher serum creatinine value, hence add gender & serum creatinine value as nodes to propabilty tree, as they add a significant contribution to outcome.* "
   ]
  },
  {
   "cell_type": "code",
   "execution_count": null,
   "id": "aerial-bookmark",
   "metadata": {},
   "outputs": [],
   "source": []
  }
 ],
 "metadata": {
  "kernelspec": {
   "display_name": "Python 3",
   "language": "python",
   "name": "python3"
  },
  "language_info": {
   "codemirror_mode": {
    "name": "ipython",
    "version": 3
   },
   "file_extension": ".py",
   "mimetype": "text/x-python",
   "name": "python",
   "nbconvert_exporter": "python",
   "pygments_lexer": "ipython3",
   "version": "3.9.1"
  }
 },
 "nbformat": 4,
 "nbformat_minor": 5
}
